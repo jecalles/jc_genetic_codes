{
 "cells": [
  {
   "cell_type": "code",
   "execution_count": 1,
   "metadata": {},
   "outputs": [],
   "source": [
    "import pickle\n",
    "\n",
    "from synbio.annotations import Location, Part\n",
    "\n",
    "import z3\n",
    "from z3helpers.definitions import *\n",
    "from z3helpers.constraints import *\n",
    "from z3helpers.utils import add_constraints\n",
    "\n",
    "# phiX174 specific stuffs\n",
    "with open(\"phiX174.pkl\", \"rb\") as handle:\n",
    "    phiX174 = pickle.load(handle)\n",
    "    \n",
    "region = Location(1155, 1521, \"FWD\")\n",
    "offset = region.start\n",
    "\n",
    "geneA = Part(seq=phiX174, name=\"A gene\", kind=\"CDS\", location=region)\n",
    "geneB = phiX174.annotations[\"B gene\"]\n",
    "\n",
    "# define z3 variables\n",
    "T = code_dict(triplet_dna_codons, AminoBitVecSort)\n",
    "dna_seq = dna_variables(region, NucleotideEnumSort)\n",
    "geneA_prot_seq = protein_variables(geneA, AminoBitVecSort)\n",
    "geneB_prot_seq = protein_variables(geneB, AminoBitVecSort)\n",
    "\n",
    "# add translation constraints\n",
    "geneA_translation_constraints = translation_constraints(\n",
    "    T, dna_seq, geneA_prot_seq, geneA.location, aminos=z3_bitvec_aminos, offset=offset)\n",
    "geneB_translation_constraints = translation_constraints(\n",
    "    T, dna_seq, geneB_prot_seq, geneB.location, \n",
    "    start_flag=True, stop_flag=True, aminos=z3_bitvec_aminos, offset=offset)\n",
    "\n",
    "# add soft constraints\n",
    "translation_obj = translates_same(geneA_prot_seq, geneA, amino_to_z3_bitvec_amino)\n",
    "translation_obj += translates_same(geneB_prot_seq, geneB, amino_to_z3_bitvec_amino)"
   ]
  },
  {
   "cell_type": "code",
   "execution_count": 12,
   "metadata": {},
   "outputs": [
    {
     "name": "stdout",
     "output_type": "stream",
     "text": [
      "unsat\n"
     ]
    }
   ],
   "source": [
    "# set up z3\n",
    "z3.set_param(\"verbose\", 10)\n",
    "z3.set_param(\"smt.bv.eq_axioms\", False)\n",
    "z3.set_param(\"smt.phase_caching_on\", 80000)\n",
    "solver = z3.Optimize()\n",
    "# add hard constraints\n",
    "add_constraints(solver, amino_bitvec_unary_restriction())\n",
    "add_constraints(\n",
    "    solver, RED20(T, aminos=z3_bitvec_aminos, amino_dict=amino_to_z3_bitvec_amino)\n",
    ")\n",
    "add_constraints(solver, geneA_translation_constraints)\n",
    "add_constraints(solver, geneB_translation_constraints)\n",
    "# add soft constraints\n",
    "add_constraints(solver, translation_obj, hard=False)\n",
    "# solve\n",
    "if solver.check() == z3.sat:\n",
    "    print(solver.model())\n",
    "else:\n",
    "    print(z3.unsat)"
   ]
  },
  {
   "cell_type": "markdown",
   "metadata": {},
   "source": [
    "# Some multiplexing\n",
    "Goal: probe problem complexity by testing subsets of the problem, i.e., recoding the first $N$ codons of gene B embedded in gene A."
   ]
  },
  {
   "cell_type": "code",
   "execution_count": 11,
   "metadata": {},
   "outputs": [
    {
     "data": {
      "text/html": [
       "<b>unknown</b>"
      ],
      "text/plain": [
       "unknown"
      ]
     },
     "execution_count": 11,
     "metadata": {},
     "output_type": "execute_result"
    }
   ],
   "source": [
    "# import pickle\n",
    "from typing import Optional\n",
    "import pickle\n",
    "\n",
    "from synbio.annotations import Location, Part\n",
    "from synbio.polymers import DNA\n",
    "\n",
    "import z3\n",
    "from z3helpers.definitions import *\n",
    "from z3helpers.constraints import *\n",
    "from z3helpers.utils import add_constraints\n",
    "\n",
    "# phiX174 specific stuffs\n",
    "with open(\"phiX174.pkl\", \"rb\") as handle:\n",
    "    phiX174 = pickle.load(handle)\n",
    "    \n",
    "NUM_CODONS = 30\n",
    "A_START = 1155\n",
    "A_END = 1521\n",
    "region = Location(A_START, A_END, \"FWD\")\n",
    "\n",
    "geneA = Part(seq=phiX174, name=\"A gene\", kind=\"CDS\", location=region)\n",
    "geneB = phiX174.annotations['B gene']\n",
    "\n",
    "def get_part(base_part: Part, num_codons: int, start: Optional[int] = None) -> Part:\n",
    "    base_loc = base_part.location\n",
    "    base_seq = base_part._seq_reference\n",
    "    base_name = base_part.name\n",
    "    base_kind = base_part.kind\n",
    "    \n",
    "    if start is None:\n",
    "        start = base_loc.start\n",
    "    \n",
    "    new_loc = Location(start, int(start + 3*num_codons), \"FWD\")\n",
    "    return Part(seq=base_seq, name=f\"{base_name} ({num_codons} codons)\", \n",
    "                kind=base_kind, location=new_loc)\n",
    "\n",
    "subset_A = get_part(geneA, NUM_CODONS, start=A_START)\n",
    "subset_B = get_part(geneB, NUM_CODONS)\n",
    "\n",
    "# define z3 variables\n",
    "T = code_dict(triplet_dna_codons)\n",
    "dna_seq = dna_variables(region)\n",
    "geneA_prot_seq = protein_variables(subset_A)\n",
    "geneB_prot_seq = protein_variables(subset_B)\n",
    "\n",
    "# add translation constraints\n",
    "geneA_translation_constraints = translation_constraints(\n",
    "    T, dna_seq, geneA_prot_seq, subset_A.location, offset=A_START)\n",
    "geneB_translation_constraints = translation_constraints(\n",
    "    T, dna_seq, geneB_prot_seq, subset_B.location, \n",
    "    start_flag=True, offset=A_START)\n",
    "\n",
    "# add soft constraints\n",
    "translation_obj = translates_same(geneA_prot_seq, subset_A)\n",
    "translation_obj += translates_same(geneB_prot_seq, subset_B)\n",
    "\n",
    "# set up z3\n",
    "z3.set_param(\"verbose\", 10)\n",
    "z3.set_param(\"smt.bv.eq_axioms\", False)\n",
    "z3.set_param(\"smt.phase_caching_on\", 80000)\n",
    "solver = z3.Optimize()\n",
    "solver.set(\"timeout\", 1000)\n",
    "# add hard constraints\n",
    "add_constraints(solver, RED20(T))\n",
    "add_constraints(solver, geneA_translation_constraints)\n",
    "add_constraints(solver, geneB_translation_constraints)\n",
    "# add soft constraints\n",
    "add_constraints(solver, translation_obj, hard=False)\n",
    "# solve\n",
    "solver.check()"
   ]
  },
  {
   "cell_type": "code",
   "execution_count": 37,
   "metadata": {},
   "outputs": [
    {
     "name": "stdout",
     "output_type": "stream",
     "text": [
      "ctrl_c (bool) enable interrupts from ctrl-c (default: true)\n",
      "dump_benchmarks (bool) dump benchmarks for profiling (default: false)\n",
      "dump_models (bool) display intermediary models to stdout (default: false)\n",
      "elim_01 (bool) eliminate 01 variables (default: true)\n",
      "enable_sat (bool) enable the new SAT core for propositional constraints (default: true)\n",
      "enable_sls (bool) enable SLS tuning during weighted maxsast (default: false)\n",
      "maxlex.enable (bool) enable maxlex heuristic for lexicographic MaxSAT problems (default: true)\n",
      "maxres.add_upper_bound_block (bool) restict upper bound with constraint (default: false)\n",
      "maxres.hill_climb (bool) give preference for large weight cores (default: true)\n",
      "maxres.max_core_size (unsigned int) break batch of generated cores if size reaches this number (default: 3)\n",
      "maxres.max_correction_set_size (unsigned int) allow generating correction set constraints up to maximal size (default: 3)\n",
      "maxres.max_num_cores (unsigned int) maximal number of cores per round (default: 4294967295)\n",
      "maxres.maximize_assignment (bool) find an MSS/MCS to improve current assignment (default: false)\n",
      "maxres.pivot_on_correction_set (bool) reduce soft constraints if the current correction set is smaller than current core (default: true)\n",
      "maxres.wmax (bool) use weighted theory solver to constrain upper bounds (default: false)\n",
      "maxsat_engine (symbol) select engine for maxsat: 'core_maxsat', 'wmax', 'maxres', 'pd-maxres' (default: maxres)\n",
      "optsmt_engine (symbol) select optimization engine: 'basic', 'symba' (default: basic)\n",
      "pb.compile_equality (bool) compile arithmetical equalities into pseudo-Boolean equality (instead of two inequalites) (default: false)\n",
      "pp.neat (bool) use neat (as opposed to less readable, but faster) pretty printer when displaying context (default: true)\n",
      "priority (symbol) select how to priortize objectives: 'lex' (lexicographic), 'pareto', 'box' (default: lex)\n",
      "rlimit (unsigned int) resource limit (0 means no limit) (default: 0)\n",
      "solution_prefix (symbol) path prefix to dump intermediary, but non-optimal, solutions (default: )\n",
      "timeout (unsigned int) timeout (in milliseconds) (UINT_MAX and 0 mean no timeout) (default: 4294967295)\n",
      "\n"
     ]
    }
   ],
   "source": []
  },
  {
   "cell_type": "code",
   "execution_count": 2,
   "metadata": {},
   "outputs": [],
   "source": [
    "from multiprocessing import Pool, Queue, Process\n",
    "from collections import namedtuple\n",
    "from typing import NewType\n",
    "import time\n",
    "\n",
    "# NUMBER_OF_PROCESSES = 8\n",
    "# Job = namedtuple(\"Job\", \"fxn args\".split())\n",
    "# Result = namedtuple(\"Result\", \"a b c\".split())\n",
    "\n",
    "# job_queue = Queue()\n",
    "# result_queue = Queue()\n",
    "\n",
    "def sleepy(timeout=0.1):\n",
    "    print(\"gonna take a nap\")\n",
    "    time.sleep(timeout)\n",
    "    print(\"mmmm, what a nice nap\")\n",
    "\n",
    "def killjoy(timeout=3):\n",
    "    pass\n",
    "\n"
   ]
  }
 ],
 "metadata": {
  "kernelspec": {
   "display_name": "virtual-env",
   "language": "python",
   "name": "virtual-env"
  },
  "language_info": {
   "codemirror_mode": {
    "name": "ipython",
    "version": 3
   },
   "file_extension": ".py",
   "mimetype": "text/x-python",
   "name": "python",
   "nbconvert_exporter": "python",
   "pygments_lexer": "ipython3",
   "version": "3.8.2"
  }
 },
 "nbformat": 4,
 "nbformat_minor": 4
}
