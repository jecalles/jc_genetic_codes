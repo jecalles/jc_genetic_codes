{
 "cells": [
  {
   "cell_type": "code",
   "execution_count": 1,
   "metadata": {
    "collapsed": true,
    "jupyter": {
     "outputs_hidden": true
    }
   },
   "outputs": [],
   "source": [
    "import pickle\n",
    "\n",
    "from synbio.annotations import Location, Part\n",
    "\n",
    "import z3\n",
    "from z3helpers.definitions import *\n",
    "from z3helpers.constraints import *\n",
    "from z3helpers.utils import add_constraints\n",
    "\n",
    "# phiX174 specific stuffs\n",
    "with open(\"phiX174.pkl\", \"rb\") as handle:\n",
    "    phiX174 = pickle.load(handle)\n",
    "    \n",
    "region = Location(1155, 1521, \"FWD\")\n",
    "offset = region.start\n",
    "\n",
    "geneA = Part(seq=phiX174, name=\"A gene\", kind=\"CDS\", location=region)\n",
    "geneB = phiX174.annotations[\"B gene\"]\n",
    "\n",
    "# define z3 variables\n",
    "T = code_dict(triplet_dna_codons, AminoBitVecSort)\n",
    "dna_seq = dna_variables(region, NucleotideEnumSort)\n",
    "geneA_prot_seq = protein_variables(geneA, AminoBitVecSort)\n",
    "geneB_prot_seq = protein_variables(geneB, AminoBitVecSort)\n",
    "\n",
    "# add translation constraints\n",
    "geneA_translation_constraints = translation_constraints(\n",
    "    T, dna_seq, geneA_prot_seq, geneA.location, aminos=z3_bitvec_aminos, offset=offset)\n",
    "geneB_translation_constraints = translation_constraints(\n",
    "    T, dna_seq, geneB_prot_seq, geneB.location, \n",
    "    start_flag=True, stop_flag=True, aminos=z3_bitvec_aminos, offset=offset)\n",
    "\n",
    "# add soft constraints\n",
    "translation_obj = translates_same(geneA_prot_seq, geneA, amino_to_z3_bitvec_amino)\n",
    "translation_obj += translates_same(geneB_prot_seq, geneB, amino_to_z3_bitvec_amino)"
   ]
  },
  {
   "cell_type": "code",
   "execution_count": null,
   "metadata": {},
   "outputs": [],
   "source": [
    "# set up z3\n",
    "z3.set_param(\"verbose\", 10)\n",
    "z3.set_param(\"smt.bv.eq_axioms\", False)\n",
    "z3.set_param(\"smt.phase_caching_on\", 80000)\n",
    "solver = z3.Optimize()\n",
    "# add hard constraints\n",
    "add_constraints(solver, amino_bitvec_unary_restriction())\n",
    "add_constraints(\n",
    "    solver, RED20(T, aminos=z3_bitvec_aminos, amino_dict=amino_to_z3_bitvec_amino)\n",
    ")\n",
    "add_constraints(solver, geneA_translation_constraints)\n",
    "add_constraints(solver, geneB_translation_constraints)\n",
    "# add soft constraints\n",
    "add_constraints(solver, translation_obj, hard=False)\n",
    "# solve\n",
    "if solver.check() == z3.sat:\n",
    "    print(solver.model())\n",
    "else:\n",
    "    print(z3.unsat)"
   ]
  }
 ],
 "metadata": {
  "kernelspec": {
   "display_name": "virtual-env",
   "language": "python",
   "name": "virtual-env"
  },
  "language_info": {
   "codemirror_mode": {
    "name": "ipython",
    "version": 3
   },
   "file_extension": ".py",
   "mimetype": "text/x-python",
   "name": "python",
   "nbconvert_exporter": "python",
   "pygments_lexer": "ipython3",
   "version": "3.8.2"
  }
 },
 "nbformat": 4,
 "nbformat_minor": 4
}
