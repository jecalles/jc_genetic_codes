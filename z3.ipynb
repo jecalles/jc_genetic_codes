{
 "cells": [
  {
   "cell_type": "code",
   "execution_count": 2,
   "metadata": {},
   "outputs": [],
   "source": [
    "import pickle\n",
    "\n",
    "from synbio.annotations import Location, Part\n",
    "\n",
    "import z3\n",
    "from z3helpers.definitions import *\n",
    "from z3helpers import constraints, objectives\n",
    "\n",
    "# phiX174 specific stuffs\n",
    "with open(\"phiX174.pkl\", \"rb\") as handle:\n",
    "    phiX174 = pickle.load(handle)\n",
    "    \n",
    "region = Location(1155, 1521, \"FWD\")\n",
    "offset = region.start\n",
    "\n",
    "geneA = Part(seq=phiX174, name=\"A gene\", kind=\"CDS\", location=region)\n",
    "geneB = phiX174.annotations[\"B gene\"]\n",
    "\n",
    "# # set up z3 stuff\n",
    "# T = f_codon_to_amino\n",
    "# f_codon = f_nuc_to_codon\n",
    "# seq = sequence_variables(region)"
   ]
  },
  {
   "cell_type": "code",
   "execution_count": null,
   "metadata": {},
   "outputs": [],
   "source": [
    "# setup solver\n",
    "z3.set_param(\"verbose\", 10)\n",
    "solver = z3.Optimize()\n",
    "\n",
    "# add genetic code constraints\n",
    "solver.add(constraints.RED20(T))\n",
    "\n",
    "# add mutation objectives\n",
    "geneA_synonymous = constraints.translates_same(T, f_codon, seq, geneA, offset)\n",
    "geneB_synonymous = constraints.translates_same(T, f_codon, seq, geneB, offset)\n",
    "mutations = geneA_synonymous + geneB_synonymous\n",
    "for mut in mutations:\n",
    "    solver.add_soft(mut)\n",
    "\n",
    "# write string representation of problem\n",
    "with open(\"string_represenation.txt\", \"w\") as handle:\n",
    "    handle.write(solver.sexpr())\n",
    "\n",
    "# run optimizer\n",
    "solver.check()"
   ]
  },
  {
   "cell_type": "code",
   "execution_count": 3,
   "metadata": {},
   "outputs": [],
   "source": [
    "import itertools\n",
    "\n",
    "import z3\n",
    "from z3 import PbEq, Or, sat\n",
    "\n",
    "from synbio.codes import Code\n",
    "from synbio.utils import dNTPs, get_codons\n",
    "from z3helpers.definitions import (\n",
    "    NucleotideSort, z3nucleotides, \n",
    "    AminoSort, z3aminos, NULL, STOP,\n",
    "    triplet_dna_codons, amino_to_z3amino,\n",
    "    sequence_variables,\n",
    ")\n",
    "\n",
    "# genetic code as dict<str codon -> AminoSort>\n",
    "T = {\n",
    "    codon: z3.Const(f\"T({codon})\", AminoSort)\n",
    "    for codon in triplet_dna_codons\n",
    "}\n",
    "dna_variables = sequence_variables(region)\n",
    "geneA_prot_variables = [\n",
    "    z3.Const(f\"geneA_{i+1}\", AminoSort)\n",
    "    for i in range(int(len(geneA.seq)/3))\n",
    "]\n",
    "geneB_prot_variables = [\n",
    "    z3.Const(f\"geneB_{i+1}\", AminoSort)\n",
    "    for i in range(int(len(geneB.seq)/3))\n",
    "]\n",
    "\n",
    "def z3nuc_to_str(iterable):\n",
    "    dict_ = {\n",
    "        z3nuc: str_nuc\n",
    "        for z3nuc, str_nuc in zip(z3nucleotides, dNTPs)\n",
    "    }\n",
    "    return ''.join(dict_[nuc] for nuc in iterable)\n",
    "\n",
    "def exactly_one_codon_per_amino(T, exclude=(NULL, STOP)):\n",
    "    return [\n",
    "        PbEq([(T[c] == aa, 1) for c in triplet_dna_codons], k=1)\n",
    "        for aa in z3aminos if aa not in exclude\n",
    "    ]\n",
    "\n",
    "def compatible_with_standard_code(T):\n",
    "    sc = Code()\n",
    "    return [\n",
    "        Or(T[codon] == amino_to_z3amino[sc[codon.replace(\"T\", \"U\")]],\n",
    "           T[codon] == NULL)\n",
    "        for codon in triplet_dna_codons\n",
    "    ]\n",
    "\n",
    "def RED20(T):\n",
    "    return exactly_one_codon_per_amino(T) + compatible_with_standard_code(T)\n",
    "\n",
    "\n",
    "def translation_constraints(code, dna_variables, prot_variables, location, offset, stop_flag=False):\n",
    "    start = location.start - offset \n",
    "    end = location.end - offset\n",
    "    \n",
    "    codon_list = get_codons(dna_variables[start:end])\n",
    "\n",
    "    # ensure no nulls and proper termination\n",
    "    stop_constraints = [\n",
    "        aa != STOP for aa in prot_variables[:-1]\n",
    "    ]\n",
    "    if stop_flag:\n",
    "        stop_constraints += [prot_variables[-1] == STOP]\n",
    "    null_constraints = [\n",
    "        aa != NULL for aa in prot_variables\n",
    "    ]\n",
    "    code_implications = [\n",
    "        # TODO: try refactoring to create intermediate variables\n",
    "        z3.Implies(z3.And(str_codon[0] == z3codon[0],\n",
    "                          str_codon[1] == z3codon[1],\n",
    "                          str_codon[2] == z3codon[2]),\n",
    "                   z3amino == code[z3nuc_to_str(z3codon)])\n",
    "        for str_codon, z3amino in zip(codon_list, prot_variables)\n",
    "        for z3codon in itertools.product(z3nucleotides, repeat=3) \n",
    "    ]\n",
    "    \n",
    "    return stop_constraints + null_constraints + code_implications\n",
    "\n",
    "#####################\n",
    "def translates_same(prot_variables, prot_seq):\n",
    "    return [\n",
    "        var_aa == amino_to_z3amino[wt_aa]\n",
    "        for var_aa, wt_aa in zip(prot_variables, prot_seq)\n",
    "    ]\n",
    "\n",
    "##################\n",
    "geneA_constraints = translation_constraints(T, dna_variables, geneA_prot_variables, geneA.location, 1155)\n",
    "geneB_constraints = translation_constraints(T, dna_variables, geneB_prot_variables, geneB.location, 1155,\n",
    "                                            stop_flag=True)"
   ]
  },
  {
   "cell_type": "code",
   "execution_count": 4,
   "metadata": {},
   "outputs": [
    {
     "name": "stdout",
     "output_type": "stream",
     "text": [
      "CPU times: user 14min 49s, sys: 6.87 s, total: 14min 56s\n",
      "Wall time: 14min 58s\n"
     ]
    }
   ],
   "source": [
    "%%time\n",
    "######\n",
    "z3.set_param(\"verbose\", 10)\n",
    "z3.set_param(\"smt.bv.eq_axioms\", False)\n",
    "z3.set_param(\"smt.phase_caching_on\", 80000)\n",
    "solver = z3.Optimize()\n",
    "solver.add(exactly_one_codon_per_amino(T))\n",
    "solver.add(compatible_with_standard_code(T))\n",
    "\n",
    "solver.add(geneA_constraints)\n",
    "solver.add(geneB_constraints)\n",
    "\n",
    "# optimize\n",
    "for elem in translates_same(geneA_prot_variables, str(geneA.seq.translate())):\n",
    "    solver.add_soft(elem)\n",
    "    \n",
    "# for elem in translates_same(geneB_prot_variables, str(geneB.seq.translate())):\n",
    "#     solver.add_soft(elem)\n",
    "result = solver.check()\n",
    "if solver.check() == sat:\n",
    "    print(solver.model())"
   ]
  },
  {
   "cell_type": "code",
   "execution_count": 8,
   "metadata": {},
   "outputs": [
    {
     "data": {
      "text/html": [
       "[]"
      ],
      "text/plain": [
       "[]"
      ]
     },
     "execution_count": 8,
     "metadata": {},
     "output_type": "execute_result"
    }
   ],
   "source": [
    "solver.model()"
   ]
  }
 ],
 "metadata": {
  "kernelspec": {
   "display_name": "virtual-env",
   "language": "python",
   "name": "virtual-env"
  },
  "language_info": {
   "codemirror_mode": {
    "name": "ipython",
    "version": 3
   },
   "file_extension": ".py",
   "mimetype": "text/x-python",
   "name": "python",
   "nbconvert_exporter": "python",
   "pygments_lexer": "ipython3",
   "version": "3.8.2"
  }
 },
 "nbformat": 4,
 "nbformat_minor": 4
}
